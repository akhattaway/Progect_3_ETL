{
 "cells": [
  {
   "cell_type": "code",
   "execution_count": 2,
   "metadata": {},
   "outputs": [],
   "source": [
    "# Import dependencies\n",
    "import pandas as pd\n",
    "import numpy as np\n"
   ]
  },
  {
   "cell_type": "code",
   "execution_count": 16,
   "metadata": {},
   "outputs": [
    {
     "name": "stderr",
     "output_type": "stream",
     "text": [
      "C:\\Users\\KatreeceHattaway\\AppData\\Local\\Temp\\ipykernel_27524\\618638567.py:2: DtypeWarning: Columns (39,51,52,66) have mixed types. Specify dtype option on import or set low_memory=False.\n",
      "  deal_info_df = pd.read_csv('../Data_Resources/deals_table.csv')\n"
     ]
    }
   ],
   "source": [
    "# Read the deal data into a Pandas DataFrame get info on tables\n",
    "deal_info_df = pd.read_csv('../Data_Resources/deals_table.csv')"
   ]
  },
  {
   "cell_type": "code",
   "execution_count": 4,
   "metadata": {},
   "outputs": [
    {
     "name": "stdout",
     "output_type": "stream",
     "text": [
      "Columns dropped and new CSV file saved.\n"
     ]
    }
   ],
   "source": [
    "# Drop columns containing client, employee or any other sensitive data\n",
    "columns_to_drop = ['Hs deal name', 'Hs company name', 'Ops notes', 'Hs shipper number', \n",
    "                   'Accounting email', 'Tracking email', 'Tracking phone',  'Shipping reference', \n",
    "                     'Referrer', 'Hs project name', 'Client notes', 'Tax exempt at', 'Pending collaborators',\n",
    "                     'Hs company ID', 'Company color','Qb customer ID', 'Hs distributor po', 'Hs payment terms',\n",
    "                     'Hs client name', 'Hs description'\n",
    "                         ]\n",
    "\n",
    "# Dropping the specified columns\n",
    "modified_deal_df = deal_info_df.drop(columns=columns_to_drop)\n",
    "\n",
    "# Save the modified DataFrame to a new CSV file\n",
    "modified_deal_df.to_csv('../Modified_Data_Resources/modified_deal_info.csv', index=False)\n",
    "\n",
    "# Print to confirm completion\n",
    "print(\"Columns dropped and new CSV file saved.\")"
   ]
  },
  {
   "cell_type": "code",
   "execution_count": 15,
   "metadata": {},
   "outputs": [
    {
     "name": "stderr",
     "output_type": "stream",
     "text": [
      "C:\\Users\\KatreeceHattaway\\AppData\\Local\\Temp\\ipykernel_27524\\3527633269.py:2: DtypeWarning: Columns (25,52,54) have mixed types. Specify dtype option on import or set low_memory=False.\n",
      "  mockups_df = pd.read_csv('../Data_Resources/mockups_table.csv')\n"
     ]
    }
   ],
   "source": [
    "# Read the deal data into a Pandas DataFrame get info on tables\n",
    "mockups_df = pd.read_csv('../Data_Resources/mockups_table.csv')\n"
   ]
  },
  {
   "cell_type": "code",
   "execution_count": 6,
   "metadata": {},
   "outputs": [
    {
     "name": "stdout",
     "output_type": "stream",
     "text": [
      "Columns dropped and new CSV file saved.\n"
     ]
    }
   ],
   "source": [
    "# Dropping the specified columns\n",
    "modified_mockups_df = mockups_df.drop(columns='Odoo name')\n",
    "\n",
    "# Save the modified DataFrame to a new CSV file\n",
    "modified_mockups_df.to_csv('../Modified_Data_Resources/modified_mockups_info.csv', index=False)\n",
    "\n",
    "# Print to confirm completion\n",
    "print(\"Columns dropped and new CSV file saved.\")"
   ]
  },
  {
   "cell_type": "code",
   "execution_count": 17,
   "metadata": {},
   "outputs": [],
   "source": [
    "# Read the deal data into a Pandas DataFrame get info on tables\n",
    "revisions_df = pd.read_csv('../Data_Resources/revisions_table.csv')\n"
   ]
  },
  {
   "cell_type": "code",
   "execution_count": 8,
   "metadata": {},
   "outputs": [
    {
     "name": "stdout",
     "output_type": "stream",
     "text": [
      "Columns dropped and new CSV file saved.\n"
     ]
    }
   ],
   "source": [
    "# Not Dropping columns but moving to the modified folder for consistency\n",
    "\n",
    "# Save the modified DataFrame to a new CSV file\n",
    "revisions_df.to_csv('../Modified_Data_Resources/revisions_df_copy.csv', index=False)\n",
    "\n",
    "# Print to confirm completion\n",
    "print(\"Columns dropped and new CSV file saved.\")"
   ]
  },
  {
   "cell_type": "code",
   "execution_count": 18,
   "metadata": {},
   "outputs": [],
   "source": [
    "# Read the deal data into a Pandas DataFrame get info on tables\n",
    "mfg_products_df = pd.read_csv('../Data_Resources/mfg_products_table.csv')\n"
   ]
  },
  {
   "cell_type": "code",
   "execution_count": 10,
   "metadata": {},
   "outputs": [
    {
     "name": "stdout",
     "output_type": "stream",
     "text": [
      "Columns dropped and new CSV file saved.\n"
     ]
    }
   ],
   "source": [
    "# Not Dropping columns but moving to the modified folder for consistency\n",
    "\n",
    "# Save the modified DataFrame to a new CSV file\n",
    "mfg_products_df.to_csv('../Modified_Data_Resources/mfg_products_df_copy.csv', index=False)\n",
    "\n",
    "# Print to confirm completion\n",
    "print(\"Columns dropped and new CSV file saved.\")"
   ]
  },
  {
   "cell_type": "code",
   "execution_count": 11,
   "metadata": {},
   "outputs": [
    {
     "name": "stderr",
     "output_type": "stream",
     "text": [
      "C:\\Users\\KatreeceHattaway\\AppData\\Local\\Temp\\ipykernel_27524\\101395051.py:2: DtypeWarning: Columns (26) have mixed types. Specify dtype option on import or set low_memory=False.\n",
      "  cart_items_df = pd.read_csv('../Data_Resources/cart_items_table.csv')\n"
     ]
    }
   ],
   "source": [
    "# Read the deal data into a Pandas DataFrame get info on tables\n",
    "cart_items_df = pd.read_csv('../Data_Resources/cart_items_table.csv')\n"
   ]
  },
  {
   "cell_type": "code",
   "execution_count": 12,
   "metadata": {},
   "outputs": [
    {
     "name": "stdout",
     "output_type": "stream",
     "text": [
      "Columns dropped and new CSV file saved.\n"
     ]
    }
   ],
   "source": [
    "# Dropping the specified columns\n",
    "modified_cart_items_df = cart_items_df.drop(columns='Address ID')\n",
    "\n",
    "# Save the modified DataFrame to a new CSV file\n",
    "modified_cart_items_df.to_csv('../Modified_Data_Resources/modified_cart_items_info.csv', index=False)\n",
    "\n",
    "# Print to confirm completion\n",
    "print(\"Columns dropped and new CSV file saved.\")"
   ]
  },
  {
   "cell_type": "code",
   "execution_count": 14,
   "metadata": {},
   "outputs": [],
   "source": [
    "deals_mockups_df = pd.read_csv('../Data_Resources/deals_mockups_table.csv')\n",
    "\n",
    "deals_mockups_df.to_csv('../Modified_Data_Resources/deals_mockups_df_copy.csv', index=False)\n"
   ]
  }
 ],
 "metadata": {
  "kernelspec": {
   "display_name": "Python 3",
   "language": "python",
   "name": "python3"
  },
  "language_info": {
   "codemirror_mode": {
    "name": "ipython",
    "version": 3
   },
   "file_extension": ".py",
   "mimetype": "text/x-python",
   "name": "python",
   "nbconvert_exporter": "python",
   "pygments_lexer": "ipython3",
   "version": "3.12.1"
  }
 },
 "nbformat": 4,
 "nbformat_minor": 2
}
